{
 "cells": [
  {
   "cell_type": "markdown",
   "metadata": {},
   "source": [
    "# Homework 1 (BME6938) - Winston Chu"
   ]
  },
  {
   "cell_type": "code",
   "execution_count": 1,
   "metadata": {},
   "outputs": [],
   "source": [
    "# Load libraries\n",
    "import pandas as pd\n",
    "import numpy as np\n",
    "from urllib.request import urlopen\n",
    "import matplotlib.pyplot as plt\n",
    "from sklearn.preprocessing import LabelEncoder\n",
    "from sklearn.preprocessing import OneHotEncoder"
   ]
  },
  {
   "cell_type": "markdown",
   "metadata": {},
   "source": [
    "## Preprocessing pt. 1\n",
    "(for plotting)"
   ]
  },
  {
   "cell_type": "code",
   "execution_count": 2,
   "metadata": {},
   "outputs": [
    {
     "data": {
      "text/html": [
       "<div>\n",
       "<style scoped>\n",
       "    .dataframe tbody tr th:only-of-type {\n",
       "        vertical-align: middle;\n",
       "    }\n",
       "\n",
       "    .dataframe tbody tr th {\n",
       "        vertical-align: top;\n",
       "    }\n",
       "\n",
       "    .dataframe thead th {\n",
       "        text-align: right;\n",
       "    }\n",
       "</style>\n",
       "<table border=\"1\" class=\"dataframe\">\n",
       "  <thead>\n",
       "    <tr style=\"text-align: right;\">\n",
       "      <th></th>\n",
       "      <th>L-CORE</th>\n",
       "      <th>L-SURF</th>\n",
       "      <th>L-O2</th>\n",
       "      <th>L-BP</th>\n",
       "      <th>SURF-STBL</th>\n",
       "      <th>CORE-STBL</th>\n",
       "      <th>BP-STBL</th>\n",
       "      <th>COMFORT</th>\n",
       "      <th>DECISION</th>\n",
       "    </tr>\n",
       "  </thead>\n",
       "  <tbody>\n",
       "    <tr>\n",
       "      <th>0</th>\n",
       "      <td>mid</td>\n",
       "      <td>low</td>\n",
       "      <td>excellent</td>\n",
       "      <td>mid</td>\n",
       "      <td>stable</td>\n",
       "      <td>stable</td>\n",
       "      <td>stable</td>\n",
       "      <td>15</td>\n",
       "      <td>A</td>\n",
       "    </tr>\n",
       "    <tr>\n",
       "      <th>1</th>\n",
       "      <td>mid</td>\n",
       "      <td>high</td>\n",
       "      <td>excellent</td>\n",
       "      <td>high</td>\n",
       "      <td>stable</td>\n",
       "      <td>stable</td>\n",
       "      <td>stable</td>\n",
       "      <td>10</td>\n",
       "      <td>S</td>\n",
       "    </tr>\n",
       "    <tr>\n",
       "      <th>2</th>\n",
       "      <td>high</td>\n",
       "      <td>low</td>\n",
       "      <td>excellent</td>\n",
       "      <td>high</td>\n",
       "      <td>stable</td>\n",
       "      <td>stable</td>\n",
       "      <td>mod-stable</td>\n",
       "      <td>10</td>\n",
       "      <td>A</td>\n",
       "    </tr>\n",
       "    <tr>\n",
       "      <th>3</th>\n",
       "      <td>mid</td>\n",
       "      <td>low</td>\n",
       "      <td>good</td>\n",
       "      <td>high</td>\n",
       "      <td>stable</td>\n",
       "      <td>unstable</td>\n",
       "      <td>mod-stable</td>\n",
       "      <td>15</td>\n",
       "      <td>A</td>\n",
       "    </tr>\n",
       "    <tr>\n",
       "      <th>4</th>\n",
       "      <td>mid</td>\n",
       "      <td>mid</td>\n",
       "      <td>excellent</td>\n",
       "      <td>high</td>\n",
       "      <td>stable</td>\n",
       "      <td>stable</td>\n",
       "      <td>stable</td>\n",
       "      <td>10</td>\n",
       "      <td>A</td>\n",
       "    </tr>\n",
       "  </tbody>\n",
       "</table>\n",
       "</div>"
      ],
      "text/plain": [
       "  L-CORE L-SURF       L-O2  L-BP SURF-STBL CORE-STBL     BP-STBL COMFORT  \\\n",
       "0    mid    low  excellent   mid    stable    stable      stable      15   \n",
       "1    mid   high  excellent  high    stable    stable      stable      10   \n",
       "2   high    low  excellent  high    stable    stable  mod-stable      10   \n",
       "3    mid    low       good  high    stable  unstable  mod-stable      15   \n",
       "4    mid    mid  excellent  high    stable    stable      stable      10   \n",
       "\n",
       "  DECISION  \n",
       "0        A  \n",
       "1        S  \n",
       "2        A  \n",
       "3       A   \n",
       "4        A  "
      ]
     },
     "execution_count": 2,
     "metadata": {},
     "output_type": "execute_result"
    }
   ],
   "source": [
    "# Load the dataset from the web\n",
    "url='http://archive.ics.uci.edu/ml/machine-learning-databases/postoperative-patient-data/post-operative.data'\n",
    "raw_data = urlopen(url)\n",
    "# Read the file and save to a DataFrame\n",
    "data = pd.read_csv(raw_data, names=['L-CORE','L-SURF','L-O2','L-BP','SURF-STBL','CORE-STBL','BP-STBL','COMFORT','DECISION'])\n",
    "# Output the first five lines\n",
    "data.head()"
   ]
  },
  {
   "cell_type": "code",
   "execution_count": 3,
   "metadata": {},
   "outputs": [
    {
     "data": {
      "text/plain": [
       "(90, 9)"
      ]
     },
     "execution_count": 3,
     "metadata": {},
     "output_type": "execute_result"
    }
   ],
   "source": [
    "# Output size of matrix\n",
    "data.shape"
   ]
  },
  {
   "cell_type": "code",
   "execution_count": 4,
   "metadata": {},
   "outputs": [
    {
     "data": {
      "text/plain": [
       "(87, 9)"
      ]
     },
     "execution_count": 4,
     "metadata": {},
     "output_type": "execute_result"
    }
   ],
   "source": [
    "# remove rows with incomplete data\n",
    "data = data[data.COMFORT != '?']\n",
    "# Output matrix size, should have 3 subjects (rows) removed\n",
    "data.shape"
   ]
  },
  {
   "cell_type": "markdown",
   "metadata": {},
   "source": [
    "Rationale: 3 subjects were specified to not have comfort ratings in the dataset description. Rows with incomplete data were removed because we are interested in how the categorical variables relate to the comfort rating (so subjects without a comfort rating are not useful)."
   ]
  },
  {
   "cell_type": "code",
   "execution_count": 5,
   "metadata": {},
   "outputs": [],
   "source": [
    "# Convert comfort rating to numeric data type\n",
    "data['COMFORT'] = pd.to_numeric(data['COMFORT'])"
   ]
  },
  {
   "cell_type": "markdown",
   "metadata": {},
   "source": [
    "Rationale: Discharge comfort ratings converted to numeric data type so they can be plotted later"
   ]
  },
  {
   "cell_type": "markdown",
   "metadata": {},
   "source": [
    "## Plot and Analyze Results\n",
    "Mean and standard deviation of the discharge comfort plotted for each level of the category variable to view the relationship between the level and the discharge comfort."
   ]
  },
  {
   "cell_type": "markdown",
   "metadata": {},
   "source": [
    "Method Explaination:\n",
    "Data is grouped by the levels for a particular variable and the mean comfort level is calculated for plotting. In order for the levels to be in non-alphabetical order, the index order is specified using the reindex command. The standard deviation is also calculated and reindexed. Method is repeated for all categorical variables. Mean and standard deviation is plotted instead of box plots because the data is very stratified so it's hard to see trends."
   ]
  },
  {
   "cell_type": "code",
   "execution_count": 6,
   "metadata": {
    "scrolled": true
   },
   "outputs": [
    {
     "data": {
      "text/plain": [
       "Text(0,0.5,'COMFORT')"
      ]
     },
     "execution_count": 6,
     "metadata": {},
     "output_type": "execute_result"
    },
    {
     "data": {
      "image/png": "[encoded data removed]",
      "text/plain": [
       "<Figure size 432x288 with 1 Axes>"
      ]
     },
     "metadata": {},
     "output_type": "display_data"
    }
   ],
   "source": [
    "# Group comfort values by L-CORE and calculate the mean/stdev\n",
    "group = 'L-CORE'\n",
    "levels = [\"low\",\"mid\",\"high\"]\n",
    "data1_m = data.groupby(group)['COMFORT'].mean()\n",
    "# Redefine the order of the indexes\n",
    "data1_m = data1_m.reindex(levels)\n",
    "data1_s = data.groupby(group)['COMFORT'].std()\n",
    "data1_s = data1_s.reindex(levels)\n",
    "# Plot results\n",
    "plt.bar(levels,data1_m,yerr=data1_s)\n",
    "plt.xlabel(group)\n",
    "plt.ylabel('COMFORT')"
   ]
  },
  {
   "cell_type": "markdown",
   "metadata": {},
   "source": [
    "This plot shows higher comfort at discharge as the patient's internal temperature increases"
   ]
  },
  {
   "cell_type": "code",
   "execution_count": 7,
   "metadata": {},
   "outputs": [
    {
     "data": {
      "text/plain": [
       "Text(0,0.5,'COMFORT')"
      ]
     },
     "execution_count": 7,
     "metadata": {},
     "output_type": "execute_result"
    },
    {
     "data": {
      "image/png": "[encoded data removed]",
      "text/plain": [
       "<Figure size 432x288 with 1 Axes>"
      ]
     },
     "metadata": {},
     "output_type": "display_data"
    }
   ],
   "source": [
    "# Group comfort values by L-SURF and calculate the mean/stdev\n",
    "group = 'L-SURF'\n",
    "levels = [\"low\",\"mid\",\"high\"]\n",
    "data1_m = data.groupby(group)['COMFORT'].mean()\n",
    "# Redefine the order of the indexes\n",
    "data1_m = data1_m.reindex(levels)\n",
    "data1_s = data.groupby(group)['COMFORT'].std()\n",
    "data1_s = data1_s.reindex(levels)\n",
    "# Plot results\n",
    "plt.bar(levels,data1_m,yerr=data1_s)\n",
    "plt.xlabel(group)\n",
    "plt.ylabel('COMFORT')"
   ]
  },
  {
   "cell_type": "markdown",
   "metadata": {},
   "source": [
    "As surface temperature increases the percieved comfort as discharge increases"
   ]
  },
  {
   "cell_type": "code",
   "execution_count": 8,
   "metadata": {},
   "outputs": [
    {
     "data": {
      "text/plain": [
       "Text(0,0.5,'COMFORT')"
      ]
     },
     "execution_count": 8,
     "metadata": {},
     "output_type": "execute_result"
    },
    {
     "data": {
      "image/png": "[encoded data removed]",
      "text/plain": [
       "<Figure size 432x288 with 1 Axes>"
      ]
     },
     "metadata": {},
     "output_type": "display_data"
    }
   ],
   "source": [
    "# Group comfort values by L-O2 and calculate the mean/stdev\n",
    "group = 'L-O2'\n",
    "levels = [\"poor\",\"fair\",\"good\",\"excellent\"]\n",
    "data1_m = data.groupby(group)['COMFORT'].mean()\n",
    "# Redefine the order of the indexes\n",
    "data1_m = data1_m.reindex(levels)\n",
    "data1_s = data.groupby(group)['COMFORT'].std()\n",
    "data1_s = data1_s.reindex(levels)\n",
    "data1_m\n",
    "# Plot results\n",
    "plt.bar(levels,data1_m,yerr=data1_s)\n",
    "plt.xlabel(group)\n",
    "plt.ylabel('COMFORT')"
   ]
  },
  {
   "cell_type": "markdown",
   "metadata": {},
   "source": [
    "Comfort at discharge is highest at a \"good\" oxygen saturation. No data on poor and fair oxygen saturation."
   ]
  },
  {
   "cell_type": "code",
   "execution_count": 9,
   "metadata": {},
   "outputs": [
    {
     "data": {
      "text/plain": [
       "Text(0,0.5,'COMFORT')"
      ]
     },
     "execution_count": 9,
     "metadata": {},
     "output_type": "execute_result"
    },
    {
     "data": {
      "image/png": "[encoded data removed]",
      "text/plain": [
       "<Figure size 432x288 with 1 Axes>"
      ]
     },
     "metadata": {},
     "output_type": "display_data"
    }
   ],
   "source": [
    "# Group comfort values by L-BP and calculate the mean/stdev\n",
    "group = 'L-BP'\n",
    "levels = [\"low\",\"mid\",\"high\"]\n",
    "data1_m = data.groupby(group)['COMFORT'].mean()\n",
    "# Redefine the order of the indexes\n",
    "data1_m = data1_m.reindex(levels)\n",
    "data1_s = data.groupby(group)['COMFORT'].std()\n",
    "data1_s = data1_s.reindex(levels)\n",
    "# Plot results\n",
    "plt.bar(levels,data1_m,yerr=data1_s)\n",
    "plt.xlabel(group)\n",
    "plt.ylabel('COMFORT')"
   ]
  },
  {
   "cell_type": "markdown",
   "metadata": {},
   "source": [
    "A mid level blood pressure is associated with the highest discharge comfort"
   ]
  },
  {
   "cell_type": "code",
   "execution_count": 10,
   "metadata": {},
   "outputs": [
    {
     "data": {
      "text/plain": [
       "Text(0,0.5,'COMFORT')"
      ]
     },
     "execution_count": 10,
     "metadata": {},
     "output_type": "execute_result"
    },
    {
     "data": {
      "image/png": "[encoded data removed]",
      "text/plain": [
       "<Figure size 432x288 with 1 Axes>"
      ]
     },
     "metadata": {},
     "output_type": "display_data"
    }
   ],
   "source": [
    "# Group comfort values by SURF-STBL and calculate the mean/stdev\n",
    "group = 'SURF-STBL'\n",
    "levels = [\"unstable\",\"mod-stable\",\"stable\"]\n",
    "data1_m = data.groupby(group)['COMFORT'].mean()\n",
    "# Redefine the order of the indexes\n",
    "data1_m = data1_m.reindex(levels)\n",
    "data1_s = data.groupby(group)['COMFORT'].std()\n",
    "data1_s = data1_s.reindex(levels)\n",
    "# Plot results\n",
    "plt.bar(levels,data1_m,yerr=data1_s)\n",
    "plt.xlabel(group)\n",
    "plt.ylabel('COMFORT')"
   ]
  },
  {
   "cell_type": "markdown",
   "metadata": {},
   "source": [
    "A more stable surface body temperature was associated with an reduced comfort at discharge"
   ]
  },
  {
   "cell_type": "code",
   "execution_count": 11,
   "metadata": {},
   "outputs": [
    {
     "data": {
      "text/plain": [
       "Text(0,0.5,'COMFORT')"
      ]
     },
     "execution_count": 11,
     "metadata": {},
     "output_type": "execute_result"
    },
    {
     "data": {
      "image/png": "[encoded data removed]",
      "text/plain": [
       "<Figure size 432x288 with 1 Axes>"
      ]
     },
     "metadata": {},
     "output_type": "display_data"
    }
   ],
   "source": [
    "# Group comfort values by CORE-STBL and calculate the mean/stdev\n",
    "group = 'CORE-STBL'\n",
    "levels = [\"unstable\",\"mod-stable\",\"stable\"]\n",
    "data1_m = data.groupby(group)['COMFORT'].mean()\n",
    "# Redefine the order of the indexes\n",
    "data1_m = data1_m.reindex(levels)\n",
    "data1_s = data.groupby(group)['COMFORT'].std()\n",
    "data1_s = data1_s.reindex(levels)\n",
    "# Plot results\n",
    "plt.bar(levels,data1_m,yerr=data1_s)\n",
    "plt.xlabel(group)\n",
    "plt.ylabel('COMFORT')"
   ]
  },
  {
   "cell_type": "markdown",
   "metadata": {},
   "source": [
    "Unstable core temperatures were associated with the highest comfort at discharge"
   ]
  },
  {
   "cell_type": "code",
   "execution_count": 12,
   "metadata": {},
   "outputs": [
    {
     "data": {
      "text/plain": [
       "Text(0,0.5,'COMFORT')"
      ]
     },
     "execution_count": 12,
     "metadata": {},
     "output_type": "execute_result"
    },
    {
     "data": {
      "image/png": "[encoded data removed]",
      "text/plain": [
       "<Figure size 432x288 with 1 Axes>"
      ]
     },
     "metadata": {},
     "output_type": "display_data"
    }
   ],
   "source": [
    "# Group comfort values by BP-STBL and calculate the mean/stdev\n",
    "group = 'BP-STBL'\n",
    "levels = [\"unstable\",\"mod-stable\",\"stable\"]\n",
    "data1_m = data.groupby(group)['COMFORT'].mean()\n",
    "# Redefine the order of the indexes\n",
    "data1_m = data1_m.reindex(levels)\n",
    "data1_s = data.groupby(group)['COMFORT'].std()\n",
    "data1_s = data1_s.reindex(levels)\n",
    "# Plot results\n",
    "plt.bar(levels,data1_m,yerr=data1_s)\n",
    "plt.xlabel(group)\n",
    "plt.ylabel('COMFORT')"
   ]
  },
  {
   "cell_type": "markdown",
   "metadata": {},
   "source": [
    "Unstable blood pressure is also associated with higher discharge comfort"
   ]
  },
  {
   "cell_type": "code",
   "execution_count": 13,
   "metadata": {},
   "outputs": [
    {
     "data": {
      "text/plain": [
       "Text(0,0.5,'COMFORT')"
      ]
     },
     "execution_count": 13,
     "metadata": {},
     "output_type": "execute_result"
    },
    {
     "data": {
      "image/png": "[encoded data removed]",
      "text/plain": [
       "<Figure size 432x288 with 1 Axes>"
      ]
     },
     "metadata": {},
     "output_type": "display_data"
    }
   ],
   "source": [
    "# Group comfort values by decision and calculate the mean/stdev\n",
    "group = 'DECISION'\n",
    "levels = [\"I\",\"A\",\"S\"]\n",
    "data1_m = data.groupby(group)['COMFORT'].mean()\n",
    "# Redefine the order of the indexes\n",
    "data1_m = data1_m.reindex(levels)\n",
    "data1_s = data.groupby(group)['COMFORT'].std()\n",
    "data1_s = data1_s.reindex(levels)\n",
    "# Plot results\n",
    "plt.bar(levels,data1_m,yerr=data1_s)\n",
    "plt.xlabel(group)\n",
    "plt.ylabel('COMFORT')"
   ]
  },
  {
   "cell_type": "markdown",
   "metadata": {},
   "source": [
    "Patients were sent home when their comfort levels were highest"
   ]
  },
  {
   "cell_type": "markdown",
   "metadata": {},
   "source": [
    "## Preprocessing Pt. 2\n",
    "Prepare data for future analysis using data science techniques"
   ]
  },
  {
   "cell_type": "code",
   "execution_count": 14,
   "metadata": {},
   "outputs": [
    {
     "data": {
      "text/html": [
       "<div>\n",
       "<style scoped>\n",
       "    .dataframe tbody tr th:only-of-type {\n",
       "        vertical-align: middle;\n",
       "    }\n",
       "\n",
       "    .dataframe tbody tr th {\n",
       "        vertical-align: top;\n",
       "    }\n",
       "\n",
       "    .dataframe thead th {\n",
       "        text-align: right;\n",
       "    }\n",
       "</style>\n",
       "<table border=\"1\" class=\"dataframe\">\n",
       "  <thead>\n",
       "    <tr style=\"text-align: right;\">\n",
       "      <th></th>\n",
       "      <th>L-CORE</th>\n",
       "      <th>L-SURF</th>\n",
       "      <th>L-O2</th>\n",
       "      <th>L-BP</th>\n",
       "      <th>SURF-STBL</th>\n",
       "      <th>CORE-STBL</th>\n",
       "      <th>BP-STBL</th>\n",
       "      <th>COMFORT</th>\n",
       "      <th>DECISION</th>\n",
       "    </tr>\n",
       "  </thead>\n",
       "  <tbody>\n",
       "    <tr>\n",
       "      <th>0</th>\n",
       "      <td>mid</td>\n",
       "      <td>low</td>\n",
       "      <td>excellent</td>\n",
       "      <td>mid</td>\n",
       "      <td>stable</td>\n",
       "      <td>stable</td>\n",
       "      <td>stable</td>\n",
       "      <td>15</td>\n",
       "      <td>A</td>\n",
       "    </tr>\n",
       "    <tr>\n",
       "      <th>1</th>\n",
       "      <td>mid</td>\n",
       "      <td>high</td>\n",
       "      <td>excellent</td>\n",
       "      <td>high</td>\n",
       "      <td>stable</td>\n",
       "      <td>stable</td>\n",
       "      <td>stable</td>\n",
       "      <td>10</td>\n",
       "      <td>S</td>\n",
       "    </tr>\n",
       "    <tr>\n",
       "      <th>2</th>\n",
       "      <td>high</td>\n",
       "      <td>low</td>\n",
       "      <td>excellent</td>\n",
       "      <td>high</td>\n",
       "      <td>stable</td>\n",
       "      <td>stable</td>\n",
       "      <td>mod-stable</td>\n",
       "      <td>10</td>\n",
       "      <td>A</td>\n",
       "    </tr>\n",
       "    <tr>\n",
       "      <th>3</th>\n",
       "      <td>mid</td>\n",
       "      <td>low</td>\n",
       "      <td>good</td>\n",
       "      <td>high</td>\n",
       "      <td>stable</td>\n",
       "      <td>unstable</td>\n",
       "      <td>mod-stable</td>\n",
       "      <td>15</td>\n",
       "      <td>A</td>\n",
       "    </tr>\n",
       "    <tr>\n",
       "      <th>4</th>\n",
       "      <td>mid</td>\n",
       "      <td>mid</td>\n",
       "      <td>excellent</td>\n",
       "      <td>high</td>\n",
       "      <td>stable</td>\n",
       "      <td>stable</td>\n",
       "      <td>stable</td>\n",
       "      <td>10</td>\n",
       "      <td>A</td>\n",
       "    </tr>\n",
       "  </tbody>\n",
       "</table>\n",
       "</div>"
      ],
      "text/plain": [
       "  L-CORE L-SURF       L-O2  L-BP SURF-STBL CORE-STBL     BP-STBL  COMFORT  \\\n",
       "0    mid    low  excellent   mid    stable    stable      stable       15   \n",
       "1    mid   high  excellent  high    stable    stable      stable       10   \n",
       "2   high    low  excellent  high    stable    stable  mod-stable       10   \n",
       "3    mid    low       good  high    stable  unstable  mod-stable       15   \n",
       "4    mid    mid  excellent  high    stable    stable      stable       10   \n",
       "\n",
       "  DECISION  \n",
       "0        A  \n",
       "1        S  \n",
       "2        A  \n",
       "3       A   \n",
       "4        A  "
      ]
     },
     "execution_count": 14,
     "metadata": {},
     "output_type": "execute_result"
    }
   ],
   "source": [
    "data.head()"
   ]
  },
  {
   "cell_type": "markdown",
   "metadata": {},
   "source": [
    "Map ordinal values to numerical values (L-CORE, L-SURF, L-BP, L-O2, SURF-STBL, CORE-STBL, BP-STBL)"
   ]
  },
  {
   "cell_type": "code",
   "execution_count": 15,
   "metadata": {},
   "outputs": [
    {
     "data": {
      "text/html": [
       "<div>\n",
       "<style scoped>\n",
       "    .dataframe tbody tr th:only-of-type {\n",
       "        vertical-align: middle;\n",
       "    }\n",
       "\n",
       "    .dataframe tbody tr th {\n",
       "        vertical-align: top;\n",
       "    }\n",
       "\n",
       "    .dataframe thead th {\n",
       "        text-align: right;\n",
       "    }\n",
       "</style>\n",
       "<table border=\"1\" class=\"dataframe\">\n",
       "  <thead>\n",
       "    <tr style=\"text-align: right;\">\n",
       "      <th></th>\n",
       "      <th>L-CORE</th>\n",
       "      <th>L-SURF</th>\n",
       "      <th>L-O2</th>\n",
       "      <th>L-BP</th>\n",
       "      <th>SURF-STBL</th>\n",
       "      <th>CORE-STBL</th>\n",
       "      <th>BP-STBL</th>\n",
       "      <th>COMFORT</th>\n",
       "      <th>DECISION</th>\n",
       "    </tr>\n",
       "  </thead>\n",
       "  <tbody>\n",
       "    <tr>\n",
       "      <th>0</th>\n",
       "      <td>0</td>\n",
       "      <td>-1</td>\n",
       "      <td>4</td>\n",
       "      <td>0</td>\n",
       "      <td>2</td>\n",
       "      <td>2</td>\n",
       "      <td>2</td>\n",
       "      <td>15</td>\n",
       "      <td>A</td>\n",
       "    </tr>\n",
       "    <tr>\n",
       "      <th>1</th>\n",
       "      <td>0</td>\n",
       "      <td>1</td>\n",
       "      <td>4</td>\n",
       "      <td>1</td>\n",
       "      <td>2</td>\n",
       "      <td>2</td>\n",
       "      <td>2</td>\n",
       "      <td>10</td>\n",
       "      <td>S</td>\n",
       "    </tr>\n",
       "    <tr>\n",
       "      <th>2</th>\n",
       "      <td>1</td>\n",
       "      <td>-1</td>\n",
       "      <td>4</td>\n",
       "      <td>1</td>\n",
       "      <td>2</td>\n",
       "      <td>2</td>\n",
       "      <td>1</td>\n",
       "      <td>10</td>\n",
       "      <td>A</td>\n",
       "    </tr>\n",
       "    <tr>\n",
       "      <th>3</th>\n",
       "      <td>0</td>\n",
       "      <td>-1</td>\n",
       "      <td>3</td>\n",
       "      <td>1</td>\n",
       "      <td>2</td>\n",
       "      <td>0</td>\n",
       "      <td>1</td>\n",
       "      <td>15</td>\n",
       "      <td>A</td>\n",
       "    </tr>\n",
       "    <tr>\n",
       "      <th>4</th>\n",
       "      <td>0</td>\n",
       "      <td>0</td>\n",
       "      <td>4</td>\n",
       "      <td>1</td>\n",
       "      <td>2</td>\n",
       "      <td>2</td>\n",
       "      <td>2</td>\n",
       "      <td>10</td>\n",
       "      <td>A</td>\n",
       "    </tr>\n",
       "  </tbody>\n",
       "</table>\n",
       "</div>"
      ],
      "text/plain": [
       "   L-CORE  L-SURF  L-O2  L-BP  SURF-STBL  CORE-STBL  BP-STBL  COMFORT DECISION\n",
       "0       0      -1     4     0          2          2        2       15        A\n",
       "1       0       1     4     1          2          2        2       10        S\n",
       "2       1      -1     4     1          2          2        1       10        A\n",
       "3       0      -1     3     1          2          0        1       15       A \n",
       "4       0       0     4     1          2          2        2       10        A"
      ]
     },
     "execution_count": 15,
     "metadata": {},
     "output_type": "execute_result"
    }
   ],
   "source": [
    "# Create mapping dictionary for L-CORE, L-SURF, and L-BP\n",
    "mapping1 = {'low':-1,'mid':0,'high':1}\n",
    "# Map descriptive values to numerical values\n",
    "data['L-CORE'] = data['L-CORE'].map(mapping1)\n",
    "data['L-SURF'] = data['L-SURF'].map(mapping1)\n",
    "data['L-BP'] = data['L-BP'].map(mapping1)\n",
    "# Map descriptive values to numerical values for L-O2\n",
    "mapping2 = {'excellent':4,'good':3,'fair':2,'poor':1}\n",
    "data['L-O2'] = data['L-O2'].map(mapping2)\n",
    "# Map descriptive values to numeric values for SURF-STBL, CORE-STBL, BP-STBL\n",
    "mapping3 = {'unstable':0,'mod-stable':1,'stable':2}\n",
    "data['SURF-STBL'] = data['SURF-STBL'].map(mapping3)\n",
    "data['CORE-STBL'] = data['CORE-STBL'].map(mapping3)\n",
    "data['BP-STBL'] = data['BP-STBL'].map(mapping3)\n",
    "data.head()"
   ]
  },
  {
   "cell_type": "markdown",
   "metadata": {},
   "source": [
    "Rationale: By encoding ordinal variables as numbers we can process them later using data science techniques"
   ]
  },
  {
   "cell_type": "markdown",
   "metadata": {},
   "source": [
    "Encode nominal decision values in a onehot fashion"
   ]
  },
  {
   "cell_type": "code",
   "execution_count": 16,
   "metadata": {},
   "outputs": [
    {
     "data": {
      "text/html": [
       "<div>\n",
       "<style scoped>\n",
       "    .dataframe tbody tr th:only-of-type {\n",
       "        vertical-align: middle;\n",
       "    }\n",
       "\n",
       "    .dataframe tbody tr th {\n",
       "        vertical-align: top;\n",
       "    }\n",
       "\n",
       "    .dataframe thead th {\n",
       "        text-align: right;\n",
       "    }\n",
       "</style>\n",
       "<table border=\"1\" class=\"dataframe\">\n",
       "  <thead>\n",
       "    <tr style=\"text-align: right;\">\n",
       "      <th></th>\n",
       "      <th>L-CORE</th>\n",
       "      <th>L-SURF</th>\n",
       "      <th>L-O2</th>\n",
       "      <th>L-BP</th>\n",
       "      <th>SURF-STBL</th>\n",
       "      <th>CORE-STBL</th>\n",
       "      <th>BP-STBL</th>\n",
       "      <th>COMFORT</th>\n",
       "      <th>DECISION_A</th>\n",
       "      <th>DECISION_I</th>\n",
       "      <th>DECISION_S</th>\n",
       "    </tr>\n",
       "  </thead>\n",
       "  <tbody>\n",
       "    <tr>\n",
       "      <th>0</th>\n",
       "      <td>0</td>\n",
       "      <td>-1</td>\n",
       "      <td>4</td>\n",
       "      <td>0</td>\n",
       "      <td>2</td>\n",
       "      <td>2</td>\n",
       "      <td>2</td>\n",
       "      <td>15</td>\n",
       "      <td>1</td>\n",
       "      <td>0</td>\n",
       "      <td>0</td>\n",
       "    </tr>\n",
       "    <tr>\n",
       "      <th>1</th>\n",
       "      <td>0</td>\n",
       "      <td>1</td>\n",
       "      <td>4</td>\n",
       "      <td>1</td>\n",
       "      <td>2</td>\n",
       "      <td>2</td>\n",
       "      <td>2</td>\n",
       "      <td>10</td>\n",
       "      <td>0</td>\n",
       "      <td>0</td>\n",
       "      <td>1</td>\n",
       "    </tr>\n",
       "    <tr>\n",
       "      <th>2</th>\n",
       "      <td>1</td>\n",
       "      <td>-1</td>\n",
       "      <td>4</td>\n",
       "      <td>1</td>\n",
       "      <td>2</td>\n",
       "      <td>2</td>\n",
       "      <td>1</td>\n",
       "      <td>10</td>\n",
       "      <td>1</td>\n",
       "      <td>0</td>\n",
       "      <td>0</td>\n",
       "    </tr>\n",
       "    <tr>\n",
       "      <th>3</th>\n",
       "      <td>0</td>\n",
       "      <td>-1</td>\n",
       "      <td>3</td>\n",
       "      <td>1</td>\n",
       "      <td>2</td>\n",
       "      <td>0</td>\n",
       "      <td>1</td>\n",
       "      <td>15</td>\n",
       "      <td>1</td>\n",
       "      <td>0</td>\n",
       "      <td>0</td>\n",
       "    </tr>\n",
       "    <tr>\n",
       "      <th>4</th>\n",
       "      <td>0</td>\n",
       "      <td>0</td>\n",
       "      <td>4</td>\n",
       "      <td>1</td>\n",
       "      <td>2</td>\n",
       "      <td>2</td>\n",
       "      <td>2</td>\n",
       "      <td>10</td>\n",
       "      <td>1</td>\n",
       "      <td>0</td>\n",
       "      <td>0</td>\n",
       "    </tr>\n",
       "  </tbody>\n",
       "</table>\n",
       "</div>"
      ],
      "text/plain": [
       "   L-CORE  L-SURF  L-O2  L-BP  SURF-STBL  CORE-STBL  BP-STBL  COMFORT  \\\n",
       "0       0      -1     4     0          2          2        2       15   \n",
       "1       0       1     4     1          2          2        2       10   \n",
       "2       1      -1     4     1          2          2        1       10   \n",
       "3       0      -1     3     1          2          0        1       15   \n",
       "4       0       0     4     1          2          2        2       10   \n",
       "\n",
       "   DECISION_A  DECISION_I  DECISION_S  \n",
       "0           1           0           0  \n",
       "1           0           0           1  \n",
       "2           1           0           0  \n",
       "3           1           0           0  \n",
       "4           1           0           0  "
      ]
     },
     "execution_count": 16,
     "metadata": {},
     "output_type": "execute_result"
    }
   ],
   "source": [
    "# Remove space after one of the A's\n",
    "data['DECISION'] = data['DECISION'].replace({'A ':'A'})\n",
    "# Encode decision nominal categorical variable in onehot fashion\n",
    "data = pd.get_dummies(data,columns=['DECISION'])\n",
    "data.head()"
   ]
  },
  {
   "cell_type": "markdown",
   "metadata": {},
   "source": [
    "Rationale: By encoding nominal variables a series of binary variables we do not impose an order but still encode the information in a format that can be used by a machine learner. In one entry there was a space after the decision. Since 'A ' should be interpreted as the same as 'A', I replaced all instances of 'A ' with 'A'"
   ]
  }
 ],
 "metadata": {
  "kernelspec": {
   "display_name": "Python 3",
   "language": "python",
   "name": "python3"
  },
  "language_info": {
   "codemirror_mode": {
    "name": "ipython",
    "version": 3
   },
   "file_extension": ".py",
   "mimetype": "text/x-python",
   "name": "python",
   "nbconvert_exporter": "python",
   "pygments_lexer": "ipython3",
   "version": "3.6.5"
  }
 },
 "nbformat": 4,
 "nbformat_minor": 2
}
